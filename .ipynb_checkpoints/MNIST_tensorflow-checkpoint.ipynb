{
 "cells": [
  {
   "cell_type": "code",
   "execution_count": 2,
   "metadata": {},
   "outputs": [],
   "source": [
    "import tensorflow as tf\n",
    "import numpy as np\n",
    "from tensorflow.examples.tutorials.mnist import input_data"
   ]
  },
  {
   "cell_type": "code",
   "execution_count": 3,
   "metadata": {},
   "outputs": [
    {
     "name": "stdout",
     "output_type": "stream",
     "text": [
      "WARNING:tensorflow:From <ipython-input-3-758d29429358>:1: read_data_sets (from tensorflow.contrib.learn.python.learn.datasets.mnist) is deprecated and will be removed in a future version.\n",
      "Instructions for updating:\n",
      "Please use alternatives such as official/mnist/dataset.py from tensorflow/models.\n",
      "WARNING:tensorflow:From /usr/local/lib/python3.6/dist-packages/tensorflow/contrib/learn/python/learn/datasets/mnist.py:260: maybe_download (from tensorflow.contrib.learn.python.learn.datasets.base) is deprecated and will be removed in a future version.\n",
      "Instructions for updating:\n",
      "Please write your own downloading logic.\n",
      "WARNING:tensorflow:From /usr/local/lib/python3.6/dist-packages/tensorflow/contrib/learn/python/learn/datasets/base.py:252: _internal_retry.<locals>.wrap.<locals>.wrapped_fn (from tensorflow.contrib.learn.python.learn.datasets.base) is deprecated and will be removed in a future version.\n",
      "Instructions for updating:\n",
      "Please use urllib or similar directly.\n",
      "Successfully downloaded train-images-idx3-ubyte.gz 9912422 bytes.\n",
      "WARNING:tensorflow:From /usr/local/lib/python3.6/dist-packages/tensorflow/contrib/learn/python/learn/datasets/mnist.py:262: extract_images (from tensorflow.contrib.learn.python.learn.datasets.mnist) is deprecated and will be removed in a future version.\n",
      "Instructions for updating:\n",
      "Please use tf.data to implement this functionality.\n",
      "Extracting MNIST_data/train-images-idx3-ubyte.gz\n",
      "Successfully downloaded train-labels-idx1-ubyte.gz 28881 bytes.\n",
      "WARNING:tensorflow:From /usr/local/lib/python3.6/dist-packages/tensorflow/contrib/learn/python/learn/datasets/mnist.py:267: extract_labels (from tensorflow.contrib.learn.python.learn.datasets.mnist) is deprecated and will be removed in a future version.\n",
      "Instructions for updating:\n",
      "Please use tf.data to implement this functionality.\n",
      "Extracting MNIST_data/train-labels-idx1-ubyte.gz\n",
      "WARNING:tensorflow:From /usr/local/lib/python3.6/dist-packages/tensorflow/contrib/learn/python/learn/datasets/mnist.py:110: dense_to_one_hot (from tensorflow.contrib.learn.python.learn.datasets.mnist) is deprecated and will be removed in a future version.\n",
      "Instructions for updating:\n",
      "Please use tf.one_hot on tensors.\n",
      "Successfully downloaded t10k-images-idx3-ubyte.gz 1648877 bytes.\n",
      "Extracting MNIST_data/t10k-images-idx3-ubyte.gz\n",
      "Successfully downloaded t10k-labels-idx1-ubyte.gz 4542 bytes.\n",
      "Extracting MNIST_data/t10k-labels-idx1-ubyte.gz\n",
      "WARNING:tensorflow:From /usr/local/lib/python3.6/dist-packages/tensorflow/contrib/learn/python/learn/datasets/mnist.py:290: DataSet.__init__ (from tensorflow.contrib.learn.python.learn.datasets.mnist) is deprecated and will be removed in a future version.\n",
      "Instructions for updating:\n",
      "Please use alternatives such as official/mnist/dataset.py from tensorflow/models.\n"
     ]
    }
   ],
   "source": [
    "mnist = input_data.read_data_sets(\"MNIST_data/\",one_hot=True)"
   ]
  },
  {
   "cell_type": "code",
   "execution_count": 325,
   "metadata": {},
   "outputs": [],
   "source": [
    "input_size = 784\n",
    "output_size = 10\n",
    "hidden_layer_size = 100\n",
    "tf.reset_default_graph()"
   ]
  },
  {
   "cell_type": "code",
   "execution_count": 326,
   "metadata": {},
   "outputs": [],
   "source": [
    "inputs = tf.placeholder(tf.float32,[None,input_size])\n",
    "targets = tf.placeholder(tf.float32,[None,output_size])"
   ]
  },
  {
   "cell_type": "code",
   "execution_count": 327,
   "metadata": {},
   "outputs": [],
   "source": [
    "weights_1 = tf.get_variable(\"weights_1\",[input_size,hidden_layer_size])\n",
    "biases_1 = tf.get_variable(\"biases_1\",[hidden_layer_size])\n",
    "outputs_1 = tf.nn.relu(tf.matmul(inputs,weights_1)+biases_1)\n",
    "\n",
    "weights_2 = tf.get_variable(\"weights_2\",[hidden_layer_size,hidden_layer_size])\n",
    "biases_2 = tf.get_variable(\"biases_2\",[hidden_layer_size])\n",
    "outputs_2 = tf.nn.relu(tf.matmul(outputs_1,weights_2)+biases_2)\n",
    "\n",
    "weights_3 = tf.get_variable(\"weights_3\",[hidden_layer_size,hidden_layer_size])\n",
    "biases_3 = tf.get_variable(\"biases_3\",[hidden_layer_size])\n",
    "outputs_3 = tf.nn.sigmoid(tf.matmul(outputs_2,weights_3)+biases_3)\n",
    "\n",
    "weights_4 = tf.get_variable(\"weights_4\",[hidden_layer_size,hidden_layer_size])\n",
    "biases_4 = tf.get_variable(\"biases_4\",[hidden_layer_size])\n",
    "outputs_4 = tf.nn.sigmoid(tf.matmul(outputs_3,weights_4)+biases_4)\n",
    "\n",
    "weights_5 = tf.get_variable(\"weights_5\",[hidden_layer_size,output_size])\n",
    "biases_5 = tf.get_variable(\"biases_5\",[output_size])\n",
    "outputs_final = tf.matmul(outputs_4,weights_5)+biases_5"
   ]
  },
  {
   "cell_type": "code",
   "execution_count": 328,
   "metadata": {},
   "outputs": [],
   "source": [
    "loss = tf.nn.softmax_cross_entropy_with_logits(logits = outputs_final,labels= targets)\n",
    "mean_loss = tf.reduce_mean(loss)\n",
    "optimize = tf.train.AdamOptimizer(learning_rate=0.001).minimize(mean_loss)"
   ]
  },
  {
   "cell_type": "code",
   "execution_count": 329,
   "metadata": {},
   "outputs": [],
   "source": [
    "out_equals_target = tf.equal(tf.argmax(outputs_final,1),tf.argmax(targets,1))\n",
    "accuracy = tf.reduce_mean(tf.cast(out_equals_target,tf.float32))"
   ]
  },
  {
   "cell_type": "code",
   "execution_count": 330,
   "metadata": {},
   "outputs": [
    {
     "name": "stderr",
     "output_type": "stream",
     "text": [
      "/usr/local/lib/python3.6/dist-packages/tensorflow/python/client/session.py:1735: UserWarning: An interactive session is already active. This can cause out-of-memory errors in some cases. You must explicitly call `InteractiveSession.close()` to release resources held by the other session(s).\n",
      "  warnings.warn('An interactive session is already active. This can '\n"
     ]
    }
   ],
   "source": [
    "sess = tf.InteractiveSession()\n",
    "initializer = tf.global_variables_initializer()\n",
    "sess.run(initializer)"
   ]
  },
  {
   "cell_type": "code",
   "execution_count": 331,
   "metadata": {},
   "outputs": [],
   "source": [
    "batch_size = 110\n",
    "batch_num = mnist.train._num_examples // batch_size\n",
    "max_epochs = 15\n",
    "prev_validation_loss = 9999999."
   ]
  },
  {
   "cell_type": "code",
   "execution_count": 332,
   "metadata": {},
   "outputs": [
    {
     "name": "stdout",
     "output_type": "stream",
     "text": [
      "Epoch: 1.Training loss:0.618.Validation loss: 0.202.Validation accuracy: 94.600%\n",
      "Epoch: 2.Training loss:0.164.Validation loss: 0.142.Validation accuracy: 96.020%\n",
      "Epoch: 3.Training loss:0.116.Validation loss: 0.101.Validation accuracy: 97.000%\n",
      "Epoch: 4.Training loss:0.085.Validation loss: 0.101.Validation accuracy: 97.100%\n",
      "Epoch: 5.Training loss:0.068.Validation loss: 0.086.Validation accuracy: 97.180%\n",
      "Epoch: 6.Training loss:0.056.Validation loss: 0.080.Validation accuracy: 97.560%\n",
      "Epoch: 7.Training loss:0.045.Validation loss: 0.073.Validation accuracy: 97.800%\n",
      "Epoch: 8.Training loss:0.037.Validation loss: 0.078.Validation accuracy: 97.540%\n",
      "END OF TRAINING!\n"
     ]
    }
   ],
   "source": [
    "for i in range(max_epochs):\n",
    "    curr_epoch_loss = 0.\n",
    "    for j in range(batch_num):\n",
    "        input_batch, target_batch = mnist.train.next_batch(batch_size)\n",
    "        _,batch_loss = sess.run([optimize,mean_loss],feed_dict={inputs:input_batch,targets:target_batch})\n",
    "        curr_epoch_loss += batch_loss\n",
    "    curr_epoch_loss /= batch_num\n",
    "    val_size = mnist.validation._num_examples\n",
    "    input_batch,target_batch = mnist.validation.next_batch(val_size)\n",
    "    validation_loss,validation_accuracy = sess.run([mean_loss,accuracy],\n",
    "                                                   feed_dict={inputs:input_batch,targets:target_batch})\n",
    "    print (\"Epoch: \"+str(i+1)+\".Training loss:\"+\"{0:.3f}\".format(curr_epoch_loss)+\n",
    "           \".Validation loss: \"+\"{0:.3f}\".format(validation_loss)+\n",
    "           \".Validation accuracy: \"+\"{0:.3f}\".format(validation_accuracy*100)+\"%\")\n",
    "    if (validation_loss>prev_validation_loss):\n",
    "        break\n",
    "    prev_validation_loss = validation_loss\n",
    "print (\"END OF TRAINING!\")"
   ]
  },
  {
   "cell_type": "code",
   "execution_count": 333,
   "metadata": {},
   "outputs": [
    {
     "name": "stdout",
     "output_type": "stream",
     "text": [
      "Test accuracy: 97.480%\n"
     ]
    }
   ],
   "source": [
    "test_size = mnist.test._num_examples\n",
    "input_batch,target_batch = mnist.test.next_batch(test_size)\n",
    "test_accuracy = sess.run([accuracy],feed_dict={inputs:input_batch,targets:target_batch})\n",
    "print (\"Test accuracy: \"+\"{0:.3f}\".format(test_accuracy[0]*100)+\"%\")"
   ]
  },
  {
   "cell_type": "code",
   "execution_count": null,
   "metadata": {},
   "outputs": [],
   "source": []
  },
  {
   "cell_type": "code",
   "execution_count": null,
   "metadata": {},
   "outputs": [],
   "source": []
  }
 ],
 "metadata": {
  "kernelspec": {
   "display_name": "Python 3",
   "language": "python",
   "name": "python3"
  },
  "language_info": {
   "codemirror_mode": {
    "name": "ipython",
    "version": 3
   },
   "file_extension": ".py",
   "mimetype": "text/x-python",
   "name": "python",
   "nbconvert_exporter": "python",
   "pygments_lexer": "ipython3",
   "version": "3.6.9"
  }
 },
 "nbformat": 4,
 "nbformat_minor": 2
}
