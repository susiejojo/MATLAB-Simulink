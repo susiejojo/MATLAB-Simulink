{
 "cells": [
  {
   "cell_type": "code",
   "execution_count": 16,
   "metadata": {},
   "outputs": [],
   "source": [
    "import numpy as np\n",
    "\n",
    "class Audiobooks_Data_Reader():\n",
    "    def __init__(self, dataset, batch_size = None):\n",
    "    \n",
    "        # The dataset that loads is one of \"train\", \"validation\", \"test\".\n",
    "        # e.g. if I call this class with x('train',5), it will load 'Audiobooks_data_train.npz' with a batch size of 5.\n",
    "        npz = np.load('{0}.npz'.format(dataset))\n",
    "        \n",
    "        # Two variables that take the values of the inputs and the targets. Inputs are floats, targets are integers\n",
    "        self.inputs, self.targets = npz['inputs'].astype(np.float), npz['targets'].astype(np.int)\n",
    "        \n",
    "        # Counts the batch number, given the size you feed it later\n",
    "        # If the batch size is None, we are either validating or testing, so we want to take the data in a single batch\n",
    "        if batch_size is None:\n",
    "            self.batch_size = self.inputs.shape[0]\n",
    "        else:\n",
    "            self.batch_size = batch_size\n",
    "        self.curr_batch = 0\n",
    "        self.batch_count = self.inputs.shape[0] // self.batch_size\n",
    "    \n",
    "    # A method which loads the next batch\n",
    "    def __next__(self):\n",
    "        if self.curr_batch >= self.batch_count:\n",
    "            self.curr_batch = 0\n",
    "            raise StopIteration()\n",
    "            \n",
    "        # You slice the dataset in batches and then the \"next\" function loads them one after the other\n",
    "        batch_slice = slice(self.curr_batch * self.batch_size, (self.curr_batch + 1) * self.batch_size)\n",
    "        inputs_batch = self.inputs[batch_slice]\n",
    "        targets_batch = self.targets[batch_slice]\n",
    "        self.curr_batch += 1\n",
    "        classes_num = 2\n",
    "        targets_one_hot = np.zeros((targets_batch.shape[0], classes_num))\n",
    "        targets_one_hot[range(targets_batch.shape[0]), targets_batch] = 1\n",
    "        return inputs_batch, targets_one_hot\n",
    "\n",
    "    def __iter__(self):\n",
    "        return self"
   ]
  },
  {
   "cell_type": "code",
   "execution_count": 3,
   "metadata": {},
   "outputs": [],
   "source": [
    "import tensorflow as tf\n",
    "import numpy as np"
   ]
  },
  {
   "cell_type": "code",
   "execution_count": 38,
   "metadata": {},
   "outputs": [],
   "source": [
    "input_size = 10\n",
    "output_size = 2\n",
    "hidden_layer_size = 50\n",
    "tf.reset_default_graph()"
   ]
  },
  {
   "cell_type": "code",
   "execution_count": 39,
   "metadata": {},
   "outputs": [],
   "source": [
    "inputs = tf.placeholder(tf.float32,[None,input_size])\n",
    "targets = tf.placeholder(tf.int32,[None,output_size])"
   ]
  },
  {
   "cell_type": "code",
   "execution_count": 40,
   "metadata": {},
   "outputs": [],
   "source": [
    "weights_1 = tf.get_variable(\"weights_1\",[input_size,hidden_layer_size])\n",
    "biases_1 = tf.get_variable(\"biases_1\",[hidden_layer_size])\n",
    "outputs_1 = tf.nn.relu(tf.matmul(inputs,weights_1)+biases_1)\n",
    "\n",
    "weights_2 = tf.get_variable(\"weights_2\",[hidden_layer_size,hidden_layer_size])\n",
    "biases_2 = tf.get_variable(\"biases_2\",[hidden_layer_size])\n",
    "outputs_2 = tf.nn.relu(tf.matmul(outputs_1,weights_2)+biases_2)\n",
    "\n",
    "weights_3 = tf.get_variable(\"weights_3\",[hidden_layer_size,hidden_layer_size])\n",
    "biases_3 = tf.get_variable(\"biases_3\",[hidden_layer_size])\n",
    "outputs_3 = tf.nn.relu(tf.matmul(outputs_2,weights_3)+biases_3)\n",
    "\n",
    "weights_4 = tf.get_variable(\"weights_4\",[hidden_layer_size,output_size])\n",
    "biases_4 = tf.get_variable(\"biases_4\",[output_size])\n",
    "outputs_final = tf.matmul(outputs_3,weights_4)+biases_4"
   ]
  },
  {
   "cell_type": "code",
   "execution_count": 41,
   "metadata": {},
   "outputs": [],
   "source": [
    "loss = tf.nn.softmax_cross_entropy_with_logits(logits = outputs_final,labels= targets)\n",
    "mean_loss = tf.reduce_mean(loss)\n",
    "optimize = tf.train.AdamOptimizer(learning_rate=0.0002).minimize(mean_loss)"
   ]
  },
  {
   "cell_type": "code",
   "execution_count": 42,
   "metadata": {},
   "outputs": [],
   "source": [
    "out_equals_target = tf.equal(tf.argmax(outputs_final,1),tf.argmax(targets,1))\n",
    "accuracy = tf.reduce_mean(tf.cast(out_equals_target,tf.float32))"
   ]
  },
  {
   "cell_type": "code",
   "execution_count": 43,
   "metadata": {},
   "outputs": [
    {
     "name": "stderr",
     "output_type": "stream",
     "text": [
      "/usr/local/lib/python3.6/dist-packages/tensorflow/python/client/session.py:1735: UserWarning: An interactive session is already active. This can cause out-of-memory errors in some cases. You must explicitly call `InteractiveSession.close()` to release resources held by the other session(s).\n",
      "  warnings.warn('An interactive session is already active. This can '\n"
     ]
    }
   ],
   "source": [
    "sess = tf.InteractiveSession()\n",
    "initializer = tf.global_variables_initializer()\n",
    "sess.run(initializer)"
   ]
  },
  {
   "cell_type": "code",
   "execution_count": 44,
   "metadata": {},
   "outputs": [],
   "source": [
    "batch_size = 100\n",
    "max_epochs = 50\n",
    "prev_validation_loss = 9999999."
   ]
  },
  {
   "cell_type": "code",
   "execution_count": 45,
   "metadata": {},
   "outputs": [],
   "source": [
    "train_data = Audiobooks_Data_Reader('train',batch_size)\n",
    "validation_data = Audiobooks_Data_Reader('validation')"
   ]
  },
  {
   "cell_type": "code",
   "execution_count": 46,
   "metadata": {},
   "outputs": [
    {
     "name": "stdout",
     "output_type": "stream",
     "text": [
      "Epoch: 1.Training loss:0.658.Validation loss: 0.623.Validation accuracy: 67.114%\n",
      "Epoch: 2.Training loss:0.597.Validation loss: 0.576.Validation accuracy: 69.799%\n",
      "Epoch: 3.Training loss:0.552.Validation loss: 0.539.Validation accuracy: 71.588%\n",
      "Epoch: 4.Training loss:0.515.Validation loss: 0.509.Validation accuracy: 72.260%\n",
      "Epoch: 5.Training loss:0.484.Validation loss: 0.485.Validation accuracy: 73.378%\n",
      "Epoch: 6.Training loss:0.459.Validation loss: 0.466.Validation accuracy: 75.168%\n",
      "Epoch: 7.Training loss:0.439.Validation loss: 0.450.Validation accuracy: 75.168%\n",
      "Epoch: 8.Training loss:0.423.Validation loss: 0.438.Validation accuracy: 75.392%\n",
      "Epoch: 9.Training loss:0.410.Validation loss: 0.428.Validation accuracy: 75.392%\n",
      "Epoch: 10.Training loss:0.400.Validation loss: 0.419.Validation accuracy: 76.510%\n",
      "Epoch: 11.Training loss:0.391.Validation loss: 0.412.Validation accuracy: 76.957%\n",
      "Epoch: 12.Training loss:0.383.Validation loss: 0.406.Validation accuracy: 77.629%\n",
      "Epoch: 13.Training loss:0.376.Validation loss: 0.401.Validation accuracy: 77.852%\n",
      "Epoch: 14.Training loss:0.371.Validation loss: 0.397.Validation accuracy: 78.076%\n",
      "Epoch: 15.Training loss:0.366.Validation loss: 0.393.Validation accuracy: 78.076%\n",
      "Epoch: 16.Training loss:0.362.Validation loss: 0.390.Validation accuracy: 78.523%\n",
      "Epoch: 17.Training loss:0.358.Validation loss: 0.387.Validation accuracy: 78.300%\n",
      "Epoch: 18.Training loss:0.354.Validation loss: 0.384.Validation accuracy: 78.523%\n",
      "Epoch: 19.Training loss:0.352.Validation loss: 0.382.Validation accuracy: 78.076%\n",
      "Epoch: 20.Training loss:0.349.Validation loss: 0.380.Validation accuracy: 78.300%\n",
      "Epoch: 21.Training loss:0.346.Validation loss: 0.378.Validation accuracy: 78.300%\n",
      "Epoch: 22.Training loss:0.344.Validation loss: 0.376.Validation accuracy: 78.076%\n",
      "Epoch: 23.Training loss:0.342.Validation loss: 0.375.Validation accuracy: 78.523%\n",
      "Epoch: 24.Training loss:0.340.Validation loss: 0.373.Validation accuracy: 78.971%\n",
      "Epoch: 25.Training loss:0.338.Validation loss: 0.372.Validation accuracy: 78.971%\n",
      "Epoch: 26.Training loss:0.337.Validation loss: 0.370.Validation accuracy: 79.195%\n",
      "Epoch: 27.Training loss:0.335.Validation loss: 0.369.Validation accuracy: 79.418%\n",
      "Epoch: 28.Training loss:0.334.Validation loss: 0.368.Validation accuracy: 79.418%\n",
      "Epoch: 29.Training loss:0.333.Validation loss: 0.367.Validation accuracy: 79.642%\n",
      "Epoch: 30.Training loss:0.331.Validation loss: 0.366.Validation accuracy: 80.089%\n",
      "Epoch: 31.Training loss:0.330.Validation loss: 0.365.Validation accuracy: 80.313%\n",
      "Epoch: 32.Training loss:0.329.Validation loss: 0.364.Validation accuracy: 80.537%\n",
      "Epoch: 33.Training loss:0.328.Validation loss: 0.364.Validation accuracy: 80.761%\n",
      "Epoch: 34.Training loss:0.327.Validation loss: 0.363.Validation accuracy: 81.208%\n",
      "Epoch: 35.Training loss:0.326.Validation loss: 0.362.Validation accuracy: 81.432%\n",
      "Epoch: 36.Training loss:0.325.Validation loss: 0.361.Validation accuracy: 81.655%\n",
      "Epoch: 37.Training loss:0.324.Validation loss: 0.361.Validation accuracy: 81.655%\n",
      "Epoch: 38.Training loss:0.323.Validation loss: 0.360.Validation accuracy: 81.655%\n",
      "Epoch: 39.Training loss:0.322.Validation loss: 0.359.Validation accuracy: 81.208%\n",
      "Epoch: 40.Training loss:0.322.Validation loss: 0.359.Validation accuracy: 81.208%\n",
      "Epoch: 41.Training loss:0.321.Validation loss: 0.358.Validation accuracy: 81.208%\n",
      "Epoch: 42.Training loss:0.320.Validation loss: 0.357.Validation accuracy: 81.208%\n",
      "Epoch: 43.Training loss:0.320.Validation loss: 0.357.Validation accuracy: 80.984%\n",
      "Epoch: 44.Training loss:0.319.Validation loss: 0.357.Validation accuracy: 80.761%\n",
      "Epoch: 45.Training loss:0.318.Validation loss: 0.356.Validation accuracy: 80.761%\n",
      "Epoch: 46.Training loss:0.318.Validation loss: 0.356.Validation accuracy: 80.984%\n",
      "Epoch: 47.Training loss:0.317.Validation loss: 0.355.Validation accuracy: 80.761%\n",
      "Epoch: 48.Training loss:0.317.Validation loss: 0.355.Validation accuracy: 81.208%\n",
      "Epoch: 49.Training loss:0.316.Validation loss: 0.354.Validation accuracy: 81.432%\n",
      "Epoch: 50.Training loss:0.316.Validation loss: 0.354.Validation accuracy: 81.432%\n",
      "END OF TRAINING!\n"
     ]
    }
   ],
   "source": [
    "for i in range(max_epochs):\n",
    "    curr_epoch_loss = 0.\n",
    "    for input_batch, target_batch in train_data:\n",
    "        _,batch_loss = sess.run([optimize,mean_loss],feed_dict={inputs:input_batch,targets:target_batch})\n",
    "        curr_epoch_loss += batch_loss\n",
    "    curr_epoch_loss /= train_data.batch_count\n",
    "    validation_loss = 0.\n",
    "    validation_accuracy = 0.\n",
    "    for input_batch, target_batch in validation_data:\n",
    "        validation_loss,validation_accuracy = sess.run([mean_loss,accuracy],feed_dict={inputs:input_batch,targets:target_batch})\n",
    "    print (\"Epoch: \"+str(i+1)+\".Training loss:\"+\"{0:.3f}\".format(curr_epoch_loss)+\n",
    "           \".Validation loss: \"+\"{0:.3f}\".format(validation_loss)+\n",
    "           \".Validation accuracy: \"+\"{0:.3f}\".format(validation_accuracy*100)+\"%\")\n",
    "    if (validation_loss>prev_validation_loss):\n",
    "        break\n",
    "    prev_validation_loss = validation_loss\n",
    "print (\"END OF TRAINING!\")"
   ]
  },
  {
   "cell_type": "code",
   "execution_count": 47,
   "metadata": {},
   "outputs": [
    {
     "name": "stdout",
     "output_type": "stream",
     "text": [
      "Test accuracy: 80.804%\n"
     ]
    }
   ],
   "source": [
    "test_data = Audiobooks_Data_Reader('test')\n",
    "test_accuracy = 0.\n",
    "test_loss = 0.\n",
    "for input_batch, target_batch in test_data:\n",
    "    test_accuracy = sess.run([accuracy],feed_dict={inputs:input_batch,targets:target_batch})\n",
    "print (\"Test accuracy: \"+\"{0:.3f}\".format(test_accuracy[0]*100)+\"%\")"
   ]
  },
  {
   "cell_type": "code",
   "execution_count": null,
   "metadata": {},
   "outputs": [],
   "source": []
  }
 ],
 "metadata": {
  "kernelspec": {
   "display_name": "Python 3",
   "language": "python",
   "name": "python3"
  },
  "language_info": {
   "codemirror_mode": {
    "name": "ipython",
    "version": 3
   },
   "file_extension": ".py",
   "mimetype": "text/x-python",
   "name": "python",
   "nbconvert_exporter": "python",
   "pygments_lexer": "ipython3",
   "version": "3.6.9"
  }
 },
 "nbformat": 4,
 "nbformat_minor": 2
}
