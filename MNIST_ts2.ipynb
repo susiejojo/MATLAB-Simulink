{
  "nbformat": 4,
  "nbformat_minor": 0,
  "metadata": {
    "colab": {
      "name": "MNIST_ts2.ipynb",
      "provenance": [],
      "authorship_tag": "ABX9TyMagDHlOyH1vRypasLBWsF8",
      "include_colab_link": true
    },
    "kernelspec": {
      "name": "python3",
      "display_name": "Python 3"
    }
  },
  "cells": [
    {
      "cell_type": "markdown",
      "metadata": {
        "id": "view-in-github",
        "colab_type": "text"
      },
      "source": [
        "<a href=\"https://colab.research.google.com/github/susiejojo/Machine-Learning-and-Deep-Learning-courses/blob/Tensorflow_course/MNIST_ts2.ipynb\" target=\"_parent\"><img src=\"https://colab.research.google.com/assets/colab-badge.svg\" alt=\"Open In Colab\"/></a>"
      ]
    },
    {
      "cell_type": "code",
      "metadata": {
        "id": "sF6WNvuyYZcy",
        "colab_type": "code",
        "colab": {}
      },
      "source": [
        "import numpy as np\n",
        "import tensorflow as tf\n",
        "import tensorflow_datasets as tfds\n",
        "from sklearn import preprocessing "
      ],
      "execution_count": 0,
      "outputs": []
    },
    {
      "cell_type": "code",
      "metadata": {
        "id": "WC7Xg8P9Ylep",
        "colab_type": "code",
        "colab": {}
      },
      "source": [
        "mnist_dataset,mnist_info = tfds.load(name='mnist',as_supervised=True,with_info=True)"
      ],
      "execution_count": 0,
      "outputs": []
    },
    {
      "cell_type": "code",
      "metadata": {
        "id": "Hu2HVF-lYoAG",
        "colab_type": "code",
        "colab": {}
      },
      "source": [
        "mnist_train,mnist_test = mnist_dataset['train'],mnist_dataset['test']"
      ],
      "execution_count": 0,
      "outputs": []
    },
    {
      "cell_type": "code",
      "metadata": {
        "id": "NNEgT1rNYqie",
        "colab_type": "code",
        "colab": {
          "base_uri": "https://localhost:8080/",
          "height": 34
        },
        "outputId": "1a54e48d-c961-4d24-ae48-bd825b1c31db"
      },
      "source": [
        "num_validation_samples = 0.1*mnist_info.splits['train'].num_examples\n",
        "num_validation_samples = tf.cast(num_validation_samples,tf.int64)\n",
        "num_validation_samples"
      ],
      "execution_count": 52,
      "outputs": [
        {
          "output_type": "execute_result",
          "data": {
            "text/plain": [
              "<tf.Tensor: shape=(), dtype=int64, numpy=6000>"
            ]
          },
          "metadata": {
            "tags": []
          },
          "execution_count": 52
        }
      ]
    },
    {
      "cell_type": "code",
      "metadata": {
        "id": "fUVl80VbZoXi",
        "colab_type": "code",
        "colab": {
          "base_uri": "https://localhost:8080/",
          "height": 34
        },
        "outputId": "5045c5c3-8053-41ec-fcf7-1a8e1a1e1d6b"
      },
      "source": [
        "num_test_samples = mnist_info.splits['test'].num_examples\n",
        "num_test_samples = tf.cast(num_test_samples,tf.int64)\n",
        "num_test_samples"
      ],
      "execution_count": 53,
      "outputs": [
        {
          "output_type": "execute_result",
          "data": {
            "text/plain": [
              "<tf.Tensor: shape=(), dtype=int64, numpy=10000>"
            ]
          },
          "metadata": {
            "tags": []
          },
          "execution_count": 53
        }
      ]
    },
    {
      "cell_type": "code",
      "metadata": {
        "id": "hn_H07ygc6i0",
        "colab_type": "code",
        "colab": {}
      },
      "source": [
        "def scale(image,label):\n",
        "  image = tf.cast(image,tf.float32)\n",
        "  image /= 255.\n",
        "  return image, label"
      ],
      "execution_count": 0,
      "outputs": []
    },
    {
      "cell_type": "code",
      "metadata": {
        "id": "9SyCKJvsdLPs",
        "colab_type": "code",
        "colab": {}
      },
      "source": [
        "scaled_train_validation_data = mnist_train.map(scale)"
      ],
      "execution_count": 0,
      "outputs": []
    },
    {
      "cell_type": "code",
      "metadata": {
        "id": "2Pi-3NxMeWWk",
        "colab_type": "code",
        "colab": {}
      },
      "source": [
        "scaled_test_data = mnist_test.map(scale)"
      ],
      "execution_count": 0,
      "outputs": []
    },
    {
      "cell_type": "code",
      "metadata": {
        "id": "mPoAqJBKenlD",
        "colab_type": "code",
        "colab": {}
      },
      "source": [
        "shuffled_train_data = scaled_train_validation_data.shuffle(buffer_size=10000)\n",
        "validation_data = shuffled_train_data.take(num_validation_samples)\n",
        "train_data = shuffled_train_data.skip(num_validation_samples)"
      ],
      "execution_count": 0,
      "outputs": []
    },
    {
      "cell_type": "code",
      "metadata": {
        "id": "3wlZKClpfL27",
        "colab_type": "code",
        "colab": {}
      },
      "source": [
        "batch_train = train_data.batch(batch_size=100) #multi-batching\n",
        "batch_validation = validation_data.batch(batch_size=num_validation_samples) #sgd\n",
        "batch_test = scaled_test_data.batch(batch_size=num_test_samples)"
      ],
      "execution_count": 0,
      "outputs": []
    },
    {
      "cell_type": "code",
      "metadata": {
        "id": "4THrlkbSgnv5",
        "colab_type": "code",
        "colab": {}
      },
      "source": [
        "validation_inputs, validation_targets = next(iter(batch_validation))"
      ],
      "execution_count": 0,
      "outputs": []
    },
    {
      "cell_type": "code",
      "metadata": {
        "id": "mA35uSNgj7Aa",
        "colab_type": "code",
        "colab": {}
      },
      "source": [
        "input_size = 784\n",
        "output_size = 10\n",
        "hidden_layer_size = 100"
      ],
      "execution_count": 0,
      "outputs": []
    },
    {
      "cell_type": "code",
      "metadata": {
        "id": "BdTvtYc0iIcK",
        "colab_type": "code",
        "colab": {}
      },
      "source": [
        "model = tf.keras.Sequential([\n",
        "                             tf.keras.layers.Flatten(input_shape=(28,28,1)),\n",
        "                             tf.keras.layers.Dense(hidden_layer_size,activation='relu'),\n",
        "                             tf.keras.layers.Dense(hidden_layer_size,activation='relu'),\n",
        "                             tf.keras.layers.Dense(output_size,activation='softmax')\n",
        "                            ])"
      ],
      "execution_count": 0,
      "outputs": []
    },
    {
      "cell_type": "code",
      "metadata": {
        "id": "CL8MA05gkV61",
        "colab_type": "code",
        "colab": {}
      },
      "source": [
        "model.compile(optimizer='adam',loss='sparse_categorical_crossentropy',metrics=['accuracy'])"
      ],
      "execution_count": 0,
      "outputs": []
    },
    {
      "cell_type": "code",
      "metadata": {
        "id": "L_6L5jxolfI-",
        "colab_type": "code",
        "colab": {
          "base_uri": "https://localhost:8080/",
          "height": 555
        },
        "outputId": "92a08a91-2db9-4927-ceb7-ae6dc9ef8454"
      },
      "source": [
        "num_epochs = 15\n",
        "model.fit(batch_train,epochs= num_epochs,validation_data=(validation_inputs,validation_targets),verbose = 2)"
      ],
      "execution_count": 63,
      "outputs": [
        {
          "output_type": "stream",
          "text": [
            "Epoch 1/15\n",
            "540/540 - 11s - loss: 0.3344 - accuracy: 0.9055 - val_loss: 0.1739 - val_accuracy: 0.9518\n",
            "Epoch 2/15\n",
            "540/540 - 11s - loss: 0.1396 - accuracy: 0.9585 - val_loss: 0.1203 - val_accuracy: 0.9635\n",
            "Epoch 3/15\n",
            "540/540 - 11s - loss: 0.0942 - accuracy: 0.9717 - val_loss: 0.0913 - val_accuracy: 0.9735\n",
            "Epoch 4/15\n",
            "540/540 - 11s - loss: 0.0753 - accuracy: 0.9769 - val_loss: 0.0830 - val_accuracy: 0.9758\n",
            "Epoch 5/15\n",
            "540/540 - 11s - loss: 0.0610 - accuracy: 0.9811 - val_loss: 0.0737 - val_accuracy: 0.9778\n",
            "Epoch 6/15\n",
            "540/540 - 11s - loss: 0.0484 - accuracy: 0.9852 - val_loss: 0.0533 - val_accuracy: 0.9835\n",
            "Epoch 7/15\n",
            "540/540 - 11s - loss: 0.0405 - accuracy: 0.9873 - val_loss: 0.0642 - val_accuracy: 0.9807\n",
            "Epoch 8/15\n",
            "540/540 - 11s - loss: 0.0355 - accuracy: 0.9889 - val_loss: 0.0515 - val_accuracy: 0.9850\n",
            "Epoch 9/15\n",
            "540/540 - 11s - loss: 0.0290 - accuracy: 0.9908 - val_loss: 0.0417 - val_accuracy: 0.9870\n",
            "Epoch 10/15\n",
            "540/540 - 11s - loss: 0.0263 - accuracy: 0.9915 - val_loss: 0.0347 - val_accuracy: 0.9903\n",
            "Epoch 11/15\n",
            "540/540 - 11s - loss: 0.0212 - accuracy: 0.9933 - val_loss: 0.0322 - val_accuracy: 0.9900\n",
            "Epoch 12/15\n",
            "540/540 - 11s - loss: 0.0194 - accuracy: 0.9939 - val_loss: 0.0285 - val_accuracy: 0.9908\n",
            "Epoch 13/15\n",
            "540/540 - 11s - loss: 0.0180 - accuracy: 0.9940 - val_loss: 0.0292 - val_accuracy: 0.9912\n",
            "Epoch 14/15\n",
            "540/540 - 11s - loss: 0.0134 - accuracy: 0.9959 - val_loss: 0.0227 - val_accuracy: 0.9928\n",
            "Epoch 15/15\n",
            "540/540 - 11s - loss: 0.0129 - accuracy: 0.9958 - val_loss: 0.0204 - val_accuracy: 0.9932\n"
          ],
          "name": "stdout"
        },
        {
          "output_type": "execute_result",
          "data": {
            "text/plain": [
              "<tensorflow.python.keras.callbacks.History at 0x7fdfa2dafd68>"
            ]
          },
          "metadata": {
            "tags": []
          },
          "execution_count": 63
        }
      ]
    },
    {
      "cell_type": "code",
      "metadata": {
        "id": "37nbq2-al-GT",
        "colab_type": "code",
        "colab": {
          "base_uri": "https://localhost:8080/",
          "height": 34
        },
        "outputId": "a71b3b87-779a-45c8-fad1-93002b83374e"
      },
      "source": [
        "test_loss, test_accuracy = model.evaluate(batch_test)"
      ],
      "execution_count": 64,
      "outputs": [
        {
          "output_type": "stream",
          "text": [
            "1/1 [==============================] - 0s 2ms/step - loss: 0.0934 - accuracy: 0.9788\n"
          ],
          "name": "stdout"
        }
      ]
    },
    {
      "cell_type": "code",
      "metadata": {
        "id": "ZXIvZiZ4nG4R",
        "colab_type": "code",
        "colab": {
          "base_uri": "https://localhost:8080/",
          "height": 34
        },
        "outputId": "1e082ac9-827b-4b5e-cc3b-4a607d26680b"
      },
      "source": [
        "print (\"Test accuracy: \"+\"{0:.3f}\".format(test_accuracy*100)+\"%\")"
      ],
      "execution_count": 65,
      "outputs": [
        {
          "output_type": "stream",
          "text": [
            "Test accuracy: 97.880%\n"
          ],
          "name": "stdout"
        }
      ]
    },
    {
      "cell_type": "code",
      "metadata": {
        "id": "J3O5wHzEnMFE",
        "colab_type": "code",
        "colab": {}
      },
      "source": [
        ""
      ],
      "execution_count": 0,
      "outputs": []
    }
  ]
}