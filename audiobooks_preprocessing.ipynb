{
 "cells": [
  {
   "cell_type": "code",
   "execution_count": 9,
   "metadata": {},
   "outputs": [],
   "source": [
    "import numpy as np\n",
    "from sklearn import preprocessing"
   ]
  },
  {
   "cell_type": "code",
   "execution_count": 13,
   "metadata": {},
   "outputs": [],
   "source": [
    "raw_data = np.loadtxt(\"Audiobooks_data.csv\",delimiter=\",\")\n",
    "raw_inputs = raw_data[:,1:-1]\n",
    "raw_targets = raw_data[:,-1]"
   ]
  },
  {
   "cell_type": "code",
   "execution_count": 14,
   "metadata": {},
   "outputs": [
    {
     "data": {
      "text/plain": [
       "array([0., 0., 0., ..., 0., 0., 1.])"
      ]
     },
     "execution_count": 14,
     "metadata": {},
     "output_type": "execute_result"
    }
   ],
   "source": [
    "raw_targets"
   ]
  },
  {
   "cell_type": "code",
   "execution_count": 25,
   "metadata": {},
   "outputs": [],
   "source": [
    "#balancing\n",
    "num_one_targets = int(np.sum(raw_targets))\n",
    "num_zero_targets = 0\n",
    "delete_indices = []\n",
    "for i in range(len(raw_targets)):\n",
    "    if (raw_targets[i]==0):\n",
    "        num_zero_targets+=1\n",
    "        if (num_zero_targets>num_one_targets):\n",
    "            delete_indices.append(i)\n",
    "balanced_inputs  =np.delete(raw_inputs,delete_indices,axis=0)\n",
    "balanced_targets = np.delete(raw_targets,delete_indices,axis = 0)"
   ]
  },
  {
   "cell_type": "code",
   "execution_count": 26,
   "metadata": {},
   "outputs": [],
   "source": [
    "#scaling\n",
    "scaled_inputs = preprocessing.scale(balanced_inputs)"
   ]
  },
  {
   "cell_type": "code",
   "execution_count": 34,
   "metadata": {},
   "outputs": [],
   "source": [
    "#shuffling\n",
    "shuffled_indices = np.arange(scaled_inputs.shape[0])\n",
    "np.random.shuffle(shuffled_indices)\n",
    "shuffled_inputs = scaled_inputs[shuffled_indices]\n",
    "shuffled_targets = balanced_targets[shuffled_indices]"
   ]
  },
  {
   "cell_type": "code",
   "execution_count": 44,
   "metadata": {},
   "outputs": [],
   "source": [
    "input_size = shuffled_inputs.shape[0]\n",
    "train_size = int(input_size*0.8)\n",
    "valid_size = int(input_size*0.1)\n",
    "test_size = int(input_size*0.1)\n",
    "train_set = shuffled_inputs[:train_size]\n",
    "valid_set = shuffled_inputs[train_size:train_size+valid_size]\n",
    "test_set = shuffled_inputs[train_size+valid_size:]\n",
    "train_targets = shuffled_targets[:train_size]\n",
    "valid_targets = shuffled_targets[train_size:train_size+valid_size]\n",
    "test_targets = shuffled_targets[train_size+valid_size:]"
   ]
  },
  {
   "cell_type": "code",
   "execution_count": 45,
   "metadata": {},
   "outputs": [],
   "source": [
    "np.savez(\"train.npz\",inputs = train_set,targets = train_targets)\n",
    "np.savez(\"validation.npz\",inputs = valid_set,targets=valid_targets)\n",
    "np.savez(\"test.npz\",inputs=test_set,targets=test_targets)"
   ]
  },
  {
   "cell_type": "code",
   "execution_count": null,
   "metadata": {},
   "outputs": [],
   "source": []
  }
 ],
 "metadata": {
  "kernelspec": {
   "display_name": "Python 3",
   "language": "python",
   "name": "python3"
  }
 },
 "nbformat": 4,
 "nbformat_minor": 2
}
