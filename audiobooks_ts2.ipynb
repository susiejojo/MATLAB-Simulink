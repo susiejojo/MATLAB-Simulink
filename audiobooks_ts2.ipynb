{
  "nbformat": 4,
  "nbformat_minor": 0,
  "metadata": {
    "colab": {
      "name": "audiobooks_ts2.ipynb",
      "provenance": [],
      "authorship_tag": "ABX9TyOGJwJkl/56Fo9f/rsH0Ghw",
      "include_colab_link": true
    },
    "kernelspec": {
      "name": "python3",
      "display_name": "Python 3"
    }
  },
  "cells": [
    {
      "cell_type": "markdown",
      "metadata": {
        "id": "view-in-github",
        "colab_type": "text"
      },
      "source": [
        "<a href=\"https://colab.research.google.com/github/susiejojo/Machine-Learning-and-Deep-Learning-courses/blob/Tensorflow_course/audiobooks_ts2.ipynb\" target=\"_parent\"><img src=\"https://colab.research.google.com/assets/colab-badge.svg\" alt=\"Open In Colab\"/></a>"
      ]
    },
    {
      "cell_type": "code",
      "metadata": {
        "id": "oJmBBsMuqovE",
        "colab_type": "code",
        "colab": {}
      },
      "source": [
        "import numpy as np\n",
        "import tensorflow as tf\n",
        "import tensorflow_datasets as tfds"
      ],
      "execution_count": 0,
      "outputs": []
    },
    {
      "cell_type": "code",
      "metadata": {
        "id": "UyIRa8VAq-fa",
        "colab_type": "code",
        "colab": {}
      },
      "source": [
        "npz = np.load('train.npz')\n",
        "train_inputs = npz['inputs'].astype('float32')\n",
        "train_targets = npz['targets'].astype('int')"
      ],
      "execution_count": 0,
      "outputs": []
    },
    {
      "cell_type": "code",
      "metadata": {
        "id": "L6aeLZEWPtfT",
        "colab_type": "code",
        "colab": {}
      },
      "source": [
        "v_npz = np.load('validation.npz')\n",
        "validation_inputs = v_npz['inputs'].astype('float32')\n",
        "validation_targets = v_npz['targets'].astype('int')"
      ],
      "execution_count": 0,
      "outputs": []
    },
    {
      "cell_type": "code",
      "metadata": {
        "id": "ROuLDTfQQIfb",
        "colab_type": "code",
        "colab": {}
      },
      "source": [
        "t_npz = np.load('test.npz')\n",
        "test_inputs = t_npz['inputs'].astype('float32')\n",
        "test_targets = t_npz['targets'].astype('int')"
      ],
      "execution_count": 0,
      "outputs": []
    },
    {
      "cell_type": "code",
      "metadata": {
        "id": "hYqpdtsXQV_7",
        "colab_type": "code",
        "colab": {}
      },
      "source": [
        "input_size = 10\n",
        "output_size = 2\n",
        "hidden_layer_size = 50\n",
        "#tf.reset_default_graph()"
      ],
      "execution_count": 0,
      "outputs": []
    },
    {
      "cell_type": "code",
      "metadata": {
        "id": "IIE9zV7LRGq0",
        "colab_type": "code",
        "colab": {}
      },
      "source": [
        "model = tf.keras.Sequential([\n",
        "                             tf.keras.layers.Dense(hidden_layer_size,activation='relu'),\n",
        "                             tf.keras.layers.Dense(hidden_layer_size,activation='relu'),\n",
        "                             tf.keras.layers.Dense(output_size,activation='softmax')\n",
        "                            ])"
      ],
      "execution_count": 0,
      "outputs": []
    },
    {
      "cell_type": "code",
      "metadata": {
        "id": "YjehkgU7RY2X",
        "colab_type": "code",
        "colab": {}
      },
      "source": [
        "model.compile(optimizer='adam',loss='sparse_categorical_crossentropy',metrics=['accuracy'])\n",
        "early_stopping = tf.keras.callbacks.EarlyStopping(patience=2)"
      ],
      "execution_count": 0,
      "outputs": []
    },
    {
      "cell_type": "code",
      "metadata": {
        "id": "1Lyj6DPnRoW8",
        "colab_type": "code",
        "colab": {
          "base_uri": "https://localhost:8080/",
          "height": 590
        },
        "outputId": "493d6ace-2070-4e45-93fb-323e6bab70de"
      },
      "source": [
        "num_epochs = 100\n",
        "batch_size = 100\n",
        "model.fit(train_inputs,train_targets,callbacks = [early_stopping],batch_size = batch_size,epochs= num_epochs,validation_data=(validation_inputs,validation_targets),verbose = 2)"
      ],
      "execution_count": 26,
      "outputs": [
        {
          "output_type": "stream",
          "text": [
            "Epoch 1/100\n",
            "36/36 - 0s - loss: 0.6160 - accuracy: 0.6259 - val_loss: 0.5204 - val_accuracy: 0.7315\n",
            "Epoch 2/100\n",
            "36/36 - 0s - loss: 0.4666 - accuracy: 0.7756 - val_loss: 0.4521 - val_accuracy: 0.7718\n",
            "Epoch 3/100\n",
            "36/36 - 0s - loss: 0.4097 - accuracy: 0.7823 - val_loss: 0.4251 - val_accuracy: 0.7696\n",
            "Epoch 4/100\n",
            "36/36 - 0s - loss: 0.3825 - accuracy: 0.7980 - val_loss: 0.4088 - val_accuracy: 0.7517\n",
            "Epoch 5/100\n",
            "36/36 - 0s - loss: 0.3671 - accuracy: 0.7972 - val_loss: 0.3945 - val_accuracy: 0.7606\n",
            "Epoch 6/100\n",
            "36/36 - 0s - loss: 0.3560 - accuracy: 0.8108 - val_loss: 0.3939 - val_accuracy: 0.7629\n",
            "Epoch 7/100\n",
            "36/36 - 0s - loss: 0.3481 - accuracy: 0.8148 - val_loss: 0.3873 - val_accuracy: 0.7718\n",
            "Epoch 8/100\n",
            "36/36 - 0s - loss: 0.3459 - accuracy: 0.8142 - val_loss: 0.3822 - val_accuracy: 0.7987\n",
            "Epoch 9/100\n",
            "36/36 - 0s - loss: 0.3409 - accuracy: 0.8159 - val_loss: 0.3861 - val_accuracy: 0.7785\n",
            "Epoch 10/100\n",
            "36/36 - 0s - loss: 0.3369 - accuracy: 0.8170 - val_loss: 0.3727 - val_accuracy: 0.7897\n",
            "Epoch 11/100\n",
            "36/36 - 0s - loss: 0.3327 - accuracy: 0.8217 - val_loss: 0.3746 - val_accuracy: 0.7718\n",
            "Epoch 12/100\n",
            "36/36 - 0s - loss: 0.3285 - accuracy: 0.8256 - val_loss: 0.3704 - val_accuracy: 0.7875\n",
            "Epoch 13/100\n",
            "36/36 - 0s - loss: 0.3271 - accuracy: 0.8215 - val_loss: 0.3671 - val_accuracy: 0.7942\n",
            "Epoch 14/100\n",
            "36/36 - 0s - loss: 0.3270 - accuracy: 0.8201 - val_loss: 0.3630 - val_accuracy: 0.7919\n",
            "Epoch 15/100\n",
            "36/36 - 0s - loss: 0.3230 - accuracy: 0.8215 - val_loss: 0.3711 - val_accuracy: 0.7875\n",
            "Epoch 16/100\n",
            "36/36 - 0s - loss: 0.3231 - accuracy: 0.8217 - val_loss: 0.3680 - val_accuracy: 0.7875\n"
          ],
          "name": "stdout"
        },
        {
          "output_type": "execute_result",
          "data": {
            "text/plain": [
              "<tensorflow.python.keras.callbacks.History at 0x7f359bf64ba8>"
            ]
          },
          "metadata": {
            "tags": []
          },
          "execution_count": 26
        }
      ]
    },
    {
      "cell_type": "code",
      "metadata": {
        "id": "GBIkGoahSI7O",
        "colab_type": "code",
        "colab": {
          "base_uri": "https://localhost:8080/",
          "height": 34
        },
        "outputId": "c78dcb19-d2dc-4771-da55-ab4f37dd8931"
      },
      "source": [
        "test_loss, test_accuracy = model.evaluate(test_inputs,test_targets)"
      ],
      "execution_count": 28,
      "outputs": [
        {
          "output_type": "stream",
          "text": [
            "14/14 [==============================] - 0s 1ms/step - loss: 0.3756 - accuracy: 0.8147\n"
          ],
          "name": "stdout"
        }
      ]
    },
    {
      "cell_type": "code",
      "metadata": {
        "id": "PBz4pqsETajL",
        "colab_type": "code",
        "colab": {
          "base_uri": "https://localhost:8080/",
          "height": 34
        },
        "outputId": "ef4d82fe-1366-4a87-b544-9ffa62d0b4aa"
      },
      "source": [
        "print (\"Test accuracy: \"+\"{0:.3f}\".format(test_accuracy*100)+\"%\")"
      ],
      "execution_count": 29,
      "outputs": [
        {
          "output_type": "stream",
          "text": [
            "Test accuracy: 81.473%\n"
          ],
          "name": "stdout"
        }
      ]
    },
    {
      "cell_type": "code",
      "metadata": {
        "id": "qX3ITOefTmBh",
        "colab_type": "code",
        "colab": {}
      },
      "source": [
        ""
      ],
      "execution_count": 0,
      "outputs": []
    }
  ]
}