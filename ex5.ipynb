{
 "cells": [
  {
   "cell_type": "code",
   "execution_count": 1,
   "metadata": {},
   "outputs": [
    {
     "name": "stderr",
     "output_type": "stream",
     "text": [
      "/usr/local/lib/python3.6/dist-packages/tensorflow/python/framework/dtypes.py:516: FutureWarning: Passing (type, 1) or '1type' as a synonym of type is deprecated; in a future version of numpy, it will be understood as (type, (1,)) / '(1,)type'.\n",
      "  _np_qint8 = np.dtype([(\"qint8\", np.int8, 1)])\n",
      "/usr/local/lib/python3.6/dist-packages/tensorflow/python/framework/dtypes.py:517: FutureWarning: Passing (type, 1) or '1type' as a synonym of type is deprecated; in a future version of numpy, it will be understood as (type, (1,)) / '(1,)type'.\n",
      "  _np_quint8 = np.dtype([(\"quint8\", np.uint8, 1)])\n",
      "/usr/local/lib/python3.6/dist-packages/tensorflow/python/framework/dtypes.py:518: FutureWarning: Passing (type, 1) or '1type' as a synonym of type is deprecated; in a future version of numpy, it will be understood as (type, (1,)) / '(1,)type'.\n",
      "  _np_qint16 = np.dtype([(\"qint16\", np.int16, 1)])\n",
      "/usr/local/lib/python3.6/dist-packages/tensorflow/python/framework/dtypes.py:519: FutureWarning: Passing (type, 1) or '1type' as a synonym of type is deprecated; in a future version of numpy, it will be understood as (type, (1,)) / '(1,)type'.\n",
      "  _np_quint16 = np.dtype([(\"quint16\", np.uint16, 1)])\n",
      "/usr/local/lib/python3.6/dist-packages/tensorflow/python/framework/dtypes.py:520: FutureWarning: Passing (type, 1) or '1type' as a synonym of type is deprecated; in a future version of numpy, it will be understood as (type, (1,)) / '(1,)type'.\n",
      "  _np_qint32 = np.dtype([(\"qint32\", np.int32, 1)])\n",
      "/usr/local/lib/python3.6/dist-packages/tensorflow/python/framework/dtypes.py:525: FutureWarning: Passing (type, 1) or '1type' as a synonym of type is deprecated; in a future version of numpy, it will be understood as (type, (1,)) / '(1,)type'.\n",
      "  np_resource = np.dtype([(\"resource\", np.ubyte, 1)])\n",
      "/usr/local/lib/python3.6/dist-packages/tensorboard/compat/tensorflow_stub/dtypes.py:541: FutureWarning: Passing (type, 1) or '1type' as a synonym of type is deprecated; in a future version of numpy, it will be understood as (type, (1,)) / '(1,)type'.\n",
      "  _np_qint8 = np.dtype([(\"qint8\", np.int8, 1)])\n",
      "/usr/local/lib/python3.6/dist-packages/tensorboard/compat/tensorflow_stub/dtypes.py:542: FutureWarning: Passing (type, 1) or '1type' as a synonym of type is deprecated; in a future version of numpy, it will be understood as (type, (1,)) / '(1,)type'.\n",
      "  _np_quint8 = np.dtype([(\"quint8\", np.uint8, 1)])\n",
      "/usr/local/lib/python3.6/dist-packages/tensorboard/compat/tensorflow_stub/dtypes.py:543: FutureWarning: Passing (type, 1) or '1type' as a synonym of type is deprecated; in a future version of numpy, it will be understood as (type, (1,)) / '(1,)type'.\n",
      "  _np_qint16 = np.dtype([(\"qint16\", np.int16, 1)])\n",
      "/usr/local/lib/python3.6/dist-packages/tensorboard/compat/tensorflow_stub/dtypes.py:544: FutureWarning: Passing (type, 1) or '1type' as a synonym of type is deprecated; in a future version of numpy, it will be understood as (type, (1,)) / '(1,)type'.\n",
      "  _np_quint16 = np.dtype([(\"quint16\", np.uint16, 1)])\n",
      "/usr/local/lib/python3.6/dist-packages/tensorboard/compat/tensorflow_stub/dtypes.py:545: FutureWarning: Passing (type, 1) or '1type' as a synonym of type is deprecated; in a future version of numpy, it will be understood as (type, (1,)) / '(1,)type'.\n",
      "  _np_qint32 = np.dtype([(\"qint32\", np.int32, 1)])\n",
      "/usr/local/lib/python3.6/dist-packages/tensorboard/compat/tensorflow_stub/dtypes.py:550: FutureWarning: Passing (type, 1) or '1type' as a synonym of type is deprecated; in a future version of numpy, it will be understood as (type, (1,)) / '(1,)type'.\n",
      "  np_resource = np.dtype([(\"resource\", np.ubyte, 1)])\n"
     ]
    }
   ],
   "source": [
    "import matplotlib.pyplot as plt\n",
    "import tensorflow as tf\n",
    "import numpy as np"
   ]
  },
  {
   "cell_type": "code",
   "execution_count": 2,
   "metadata": {},
   "outputs": [],
   "source": [
    "input_size = 2\n",
    "output_size = 1\n",
    "observations = 1000"
   ]
  },
  {
   "cell_type": "code",
   "execution_count": 3,
   "metadata": {},
   "outputs": [],
   "source": [
    "xs = np.random.uniform(-10,10,(observations,1))\n",
    "zs = np.random.uniform(-10,10,(observations,1))\n",
    "noise = np.random.uniform(-1,1,(observations,1))\n",
    "inputs_i = np.column_stack((xs,zs))\n",
    "targets_i = 2*xs - 3*zs + 5 + noise\n",
    "np.savez(\"TF_gd\",inputs = inputs_i, targets = targets_i)"
   ]
  },
  {
   "cell_type": "code",
   "execution_count": 4,
   "metadata": {},
   "outputs": [],
   "source": [
    "inputs = tf.placeholder(tf.float32, [None, input_size])\n",
    "targets = tf.placeholder(tf.float32, [None, output_size])\n",
    "weights = tf.Variable(tf.random_uniform([input_size, output_size], minval=-0.1, maxval=0.1))\n",
    "biases = tf.Variable(tf.random_uniform([output_size], minval=-0.1, maxval=0.1))\n",
    "outputs = tf.matmul(inputs, weights) + biases"
   ]
  },
  {
   "cell_type": "code",
   "execution_count": null,
   "metadata": {},
   "outputs": [],
   "source": []
  },
  {
   "cell_type": "code",
   "execution_count": 5,
   "metadata": {},
   "outputs": [
    {
     "name": "stdout",
     "output_type": "stream",
     "text": [
      "WARNING:tensorflow:From /usr/local/lib/python3.6/dist-packages/tensorflow/python/ops/losses/losses_impl.py:121: add_dispatch_support.<locals>.wrapper (from tensorflow.python.ops.array_ops) is deprecated and will be removed in a future version.\n",
      "Instructions for updating:\n",
      "Use tf.where in 2.0, which has the same broadcast rule as np.where\n"
     ]
    }
   ],
   "source": [
    "losses = tf.losses.mean_squared_error(labels = targets,predictions = outputs)/2.\n",
    "optimizer = tf.train.GradientDescentOptimizer(learning_rate=0.05).minimize(losses)"
   ]
  },
  {
   "cell_type": "code",
   "execution_count": 6,
   "metadata": {},
   "outputs": [],
   "source": [
    "sess = tf.InteractiveSession()"
   ]
  },
  {
   "cell_type": "code",
   "execution_count": 7,
   "metadata": {},
   "outputs": [],
   "source": [
    "initializer = tf.global_variables_initializer()\n",
    "sess.run(initializer)"
   ]
  },
  {
   "cell_type": "code",
   "execution_count": 8,
   "metadata": {},
   "outputs": [],
   "source": [
    "training_data = np.load('TF_gd.npz')"
   ]
  },
  {
   "cell_type": "code",
   "execution_count": 9,
   "metadata": {},
   "outputs": [
    {
     "name": "stdout",
     "output_type": "stream",
     "text": [
      "210.66719\n",
      "73.382835\n",
      "30.366945\n",
      "16.018604\n",
      "10.686775\n",
      "8.337712\n",
      "7.0526443\n",
      "6.1915827\n",
      "5.527368\n",
      "4.9727826\n",
      "4.4908566\n",
      "4.063861\n",
      "3.681964\n",
      "3.3388314\n",
      "3.02983\n",
      "2.7512524\n",
      "2.4999602\n",
      "2.2732165\n",
      "2.0685954\n",
      "1.8839238\n",
      "1.7172511\n",
      "1.56682\n",
      "1.4310464\n",
      "1.308502\n",
      "1.197897\n",
      "1.0980688\n",
      "1.0079668\n",
      "0.9266427\n",
      "0.85324234\n",
      "0.78699327\n",
      "0.7271993\n",
      "0.6732307\n",
      "0.6245202\n",
      "0.5805557\n",
      "0.54087466\n",
      "0.50505984\n",
      "0.4727342\n",
      "0.44355786\n",
      "0.41722456\n",
      "0.39345643\n",
      "0.37200412\n",
      "0.352642\n",
      "0.3351665\n",
      "0.31939343\n",
      "0.3051572\n",
      "0.29230803\n",
      "0.28071058\n",
      "0.27024314\n",
      "0.26079547\n",
      "0.25226837\n",
      "0.24457216\n",
      "0.23762555\n",
      "0.23135608\n",
      "0.22569703\n",
      "0.22058947\n",
      "0.21597955\n",
      "0.21181887\n",
      "0.20806351\n",
      "0.20467412\n",
      "0.20161496\n",
      "0.19885372\n",
      "0.19636147\n",
      "0.19411215\n",
      "0.19208202\n",
      "0.19024959\n",
      "0.1885957\n",
      "0.18710293\n",
      "0.18575561\n",
      "0.18453957\n",
      "0.18344201\n",
      "0.18245135\n",
      "0.18155734\n",
      "0.18075033\n",
      "0.18002191\n",
      "0.17936456\n",
      "0.17877118\n",
      "0.17823565\n",
      "0.17775229\n",
      "0.17731607\n",
      "0.17692228\n",
      "0.17656684\n",
      "0.17624606\n",
      "0.17595652\n",
      "0.17569521\n",
      "0.17545933\n",
      "0.1752465\n",
      "0.17505436\n",
      "0.17488086\n",
      "0.17472443\n",
      "0.17458315\n",
      "0.17445566\n",
      "0.17434056\n",
      "0.17423667\n",
      "0.1741429\n",
      "0.17405829\n",
      "0.17398193\n",
      "0.17391303\n",
      "0.17385077\n",
      "0.17379461\n",
      "0.17374398\n"
     ]
    }
   ],
   "source": [
    "for i in range(100):\n",
    "        _, curr_loss = sess.run([optimizer,losses], feed_dict={inputs: training_data['inputs'],targets: training_data['targets']})\n",
    "        print (curr_loss)"
   ]
  },
  {
   "cell_type": "code",
   "execution_count": 11,
   "metadata": {},
   "outputs": [
    {
     "name": "stdout",
     "output_type": "stream",
     "text": [
      "[array([[ 1.9983757],\n",
      "       [-2.9943717]], dtype=float32)]\n",
      "[array([4.9437017], dtype=float32)]\n"
     ]
    }
   ],
   "source": [
    "out1 = sess.run([weights], \n",
    "               feed_dict={inputs: training_data['inputs'],targets: training_data['targets']})\n",
    "# The model is optimized, so the outputs are calculated based on the last form of the model\n",
    "out2 = sess.run([biases], \n",
    "               feed_dict={inputs: training_data['inputs'],targets: training_data['targets']})\n",
    "# We have to np.squeeze the arrays in order to fit them to what the plot function expects.\n",
    "# Doesn't change anything as we cut dimensions of size 1 - just a technicality.\n",
    "print (out1)\n",
    "print (out2)"
   ]
  },
  {
   "cell_type": "code",
   "execution_count": null,
   "metadata": {},
   "outputs": [],
   "source": []
  }
 ],
 "metadata": {
  "kernelspec": {
   "display_name": "Python 3",
   "language": "python",
   "name": "python3"
  },
  "language_info": {
   "codemirror_mode": {
    "name": "ipython",
    "version": 3
   },
   "file_extension": ".py",
   "mimetype": "text/x-python",
   "name": "python",
   "nbconvert_exporter": "python",
   "pygments_lexer": "ipython3",
   "version": "3.6.9"
  }
 },
 "nbformat": 4,
 "nbformat_minor": 2
}
